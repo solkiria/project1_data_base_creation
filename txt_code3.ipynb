{
 "cells": [
  {
   "cell_type": "markdown",
   "metadata": {},
   "source": [
    "## Lectura y explicación de la estructura del archivo .txt\n",
    "El Product Owner (de ahora en adelante, P.O.) nos hace llegar tres archivos (.xml, .txt y .sql) con el objetivo de fusionarlos en una única base de datos. Para ello, será necesario elaborar un programa que facilite la legibilidad de los datos tal y como nos solicita el P.O., además de automatizar el proceso de limpieza para futuros inputs que lleguen a la base de datos.\n",
    "\n",
    "### Características del archivo .txt\n",
    "Uno de los ficheros que recibimos es un archivo .txt (data_txt.txt). Después de una primera visualización del documento en un procesador de textos encontramos:\n",
    "\n",
    "- Con relación a la estructura de los datos, estos están organizados en líneas, donde cada línea corresponde a una fila en la futura tabla.\n",
    "\n",
    "- La primera línea del archivo corresponde a los nombres de las columnas de la futura tabla. Estos están separados por \";\".\n",
    "\n",
    "- En el resto de las filas, siguiendo la estructura de la primera línea, también se observa la separación en columnas por \";\".\n",
    "\n",
    "- Al principio de cada línea se observan los \"indices_sql\", contenidos en el archivo .sql (data_sql.sql). Estos índices relacionan cada fila del archivo .txt con la fila del mismo índice en el archivo .sql.\n",
    "\n",
    "- En varias de las filas se observan algunos datos que están precedidos, o seguidos, de espacios extra (innecesarios).\n",
    "\n",
    "- A lo largo del texto llama la atención el gran número de elementos \"<\" y \"null\" que el P.O. quiere sustituir por \"under\" y \"NULL\" respectivamente.\n",
    "\n",
    "\n",
    "Por otra parte, al leer el contenido del archivo .txt en Python, se observa una lista de elementos que se corresponden con cada fila de la futura tabla. Al final de cada uno de los elementos de la lista nos encontramos con un salto de línea como \"\\n\", que deberemos eliminar para trabajar con los datos.\n",
    "\n",
    "\n",
    "\n",
    "### Limpieza del archivo .txt\n",
    "Una vez observado todo lo tratado en el apartado anterior, procedemos a trabajar con el archivo .txt en Python. Para ello hemos de tener en cuenta los requerimientos del P.O.:\n",
    "- Quitar los saltos de línea \"\\n\".\n",
    "- Sustituir los \"<\" por \"under\".\n",
    "- Sustituir los \"null\" por \"NULL\".\n",
    "- Eliminar los espacios innecesarios al principio y al final del contenido del cada columna.\n",
    "\n",
    "Al abrir el archivo en Python se crea una lista. Debido a la larga extensión de la misma, comenzamos trabajando en uno de sus elementos. En este elemento realizamos las tareas de limpieza y sustitución y, tras comprobar que funcionan adecuadamente, extendimos esta función al resto del archivo."
   ]
  },
  {
   "cell_type": "markdown",
   "metadata": {},
   "source": []
  },
  {
   "cell_type": "code",
   "execution_count": null,
   "metadata": {},
   "outputs": [],
   "source": [
    "# En primer lugar guardamos el contenido del archivo .txt en la variable \"file_source\".\n",
    "with open('data_txt.txt','r') as file:\n",
    "    file_source = file.readlines()"
   ]
  },
  {
   "cell_type": "code",
   "execution_count": null,
   "metadata": {},
   "outputs": [],
   "source": [
    "# Leemos el contenido de la variable. Y vemos que es una lista, donde cada elemento\n",
    "#  es una fila de la futura tabla.\n",
    "file_source"
   ]
  },
  {
   "cell_type": "code",
   "execution_count": null,
   "metadata": {},
   "outputs": [],
   "source": [
    "# Sacamos el primer string de la lista.\n",
    "file_source[0]"
   ]
  },
  {
   "cell_type": "code",
   "execution_count": null,
   "metadata": {},
   "outputs": [],
   "source": [
    "# Quitamos los '\\n' (saltos de línea) en un solo elemento de la lista.\n",
    "frase=file_source[0]\n",
    "frase_nueva=frase.replace(\"\\n\",\"\")\n",
    "print(frase_nueva)"
   ]
  },
  {
   "cell_type": "code",
   "execution_count": null,
   "metadata": {},
   "outputs": [],
   "source": [
    "# Creamos código para toda la lista(todo el txt), para quitar los saltos de linea(\\n). \n",
    "lista_sin_saltos=[]\n",
    "for i in file_source:\n",
    "    elemento=i.replace(\"\\n\",\"\")\n",
    "    lista_sin_saltos.append(elemento)\n",
    "print(lista_sin_saltos)"
   ]
  },
  {
   "cell_type": "code",
   "execution_count": null,
   "metadata": {},
   "outputs": [],
   "source": [
    "# Creamos la funcion para limpiar los saltos de línea en todo el .txt.\n",
    "def quitar_saltos(lista_txt):\n",
    "    # Función que sirve para quitar saltos de línea en elementos string de una lista con datos\n",
    "    #  de un txt.\n",
    "    lista_sin_saltos=[]\n",
    "    for i in lista_txt:\n",
    "        elemento=i.replace(\"\\n\",\"\")\n",
    "        lista_sin_saltos.append(elemento)\n",
    "    return lista_sin_saltos\n",
    "# Cuando ejecutemos la función sobre una lista de u txt, nos devolverá el resultado de esa lista\n",
    "#  tras quitar los saltos.\n",
    "# Para guardar ese resultado deberemos guardar eso dentro de una funcion, es decir:\n",
    "#  variable = quitar_saltos(lista_txt)"
   ]
  },
  {
   "cell_type": "code",
   "execution_count": null,
   "metadata": {},
   "outputs": [],
   "source": [
    "# Ejecutamos la funcion creada sobre la variable que tiene el contenido del .txt.\n",
    "quitar_saltos(file_source)"
   ]
  },
  {
   "cell_type": "code",
   "execution_count": null,
   "metadata": {},
   "outputs": [],
   "source": []
  },
  {
   "cell_type": "code",
   "execution_count": null,
   "metadata": {},
   "outputs": [],
   "source": [
    "# Ahora que ya tenemos la funcion para los '\\n', simplemente metemos en la funcion las\n",
    "#  sustituciones de '<' por 'under' y los 'null' por 'NULL'.\n",
    "def sustituir(lista_txt):\n",
    "    # Esta función sirve para quitar saltos de línea(\\n), cambiar '<' por 'under y \n",
    "    #  'null' por 'NULL', cuyo parámetro será una variable que almacene, en formato lista,\n",
    "    #   el contenido de un .txt.\n",
    "    lista_sustituida=[]\n",
    "    for i in lista_txt:\n",
    "        saltos=i.replace(\"\\n\",\"\")\n",
    "        menores=saltos.replace(\"<\", \"under\")\n",
    "        nules=menores.replace(\"null\",\"NULL\")\n",
    "        lista_sustituida.append(nules)\n",
    "    return lista_sustituida"
   ]
  },
  {
   "cell_type": "code",
   "execution_count": null,
   "metadata": {},
   "outputs": [],
   "source": [
    "# Ejecutamos la funcion creada sobre la variable que tiene el contenido del .txt.\n",
    "file_source_sustituido = sustituir(file_source)\n",
    "print(file_source_sustituido)"
   ]
  },
  {
   "cell_type": "code",
   "execution_count": null,
   "metadata": {},
   "outputs": [],
   "source": []
  },
  {
   "cell_type": "code",
   "execution_count": null,
   "metadata": {},
   "outputs": [],
   "source": [
    "# Tras la limpieza previa, procedemos a eliminar los espacios extra. Para ello creamos\n",
    "#  esta funcion para automatizar la eliminación de espacios extra en un archivo .txt.\n",
    "def limpiar(archivo_txt):\n",
    "    # Esta función sirve para eliminar los espacios innecesarios al principio y al final del\n",
    "    #  contenido del cada columna. El parámetro será una variable que almacene, en formato lista,\n",
    "    #  el contenido de un .txt.\n",
    "    lista_espacio1=[]\n",
    "    for entrada in archivo_txt:\n",
    "        espacio1=entrada.split(\";\")\n",
    "        lista_espacio1.append(espacio1)\n",
    "\n",
    "    lista_espacio2=[]\n",
    "    lista_espacio3=[]\n",
    "    for columna in lista_espacio1:\n",
    "        for elemento in columna:\n",
    "            espacio2=elemento.strip()\n",
    "            lista_espacio2.append(espacio2)\n",
    "            if len(lista_espacio2)==len(columna):\n",
    "                lista_espacio3.append(lista_espacio2)\n",
    "                lista_espacio2=[]\n",
    "            else:\n",
    "                pass\n",
    "    return lista_espacio3"
   ]
  },
  {
   "cell_type": "code",
   "execution_count": null,
   "metadata": {},
   "outputs": [],
   "source": [
    "# Ejecutamos la funcion creada sobre la variable que tiene el contenido del .txt, con\n",
    "#  la limpieza previa ya hecha en este caso.\n",
    "file_source_limpio=limpiar(file_source_sustituido)\n",
    "print(file_source_limpio)"
   ]
  },
  {
   "cell_type": "code",
   "execution_count": null,
   "metadata": {},
   "outputs": [],
   "source": [
    "# Para poder desarrollar la función \"limpiar()\", primero convertimos los elementos\n",
    "#  de la lista (strings) en listas dentro de esa lista.\n",
    "lista_listas=[]\n",
    "for strings in file_source:\n",
    "    list_string=strings.split(';')\n",
    "    lista_listas.append(list_string)"
   ]
  },
  {
   "cell_type": "code",
   "execution_count": null,
   "metadata": {},
   "outputs": [],
   "source": [
    "# Comprobamos que el segundo elemento de esta lista nueva es una lista. Donde\n",
    "#  cada elemento, de cada lista contenida en la lista globlal, pertenece a los\n",
    "#  datos de cada fila divididos por columnas.\n",
    "print(lista_listas[1])"
   ]
  },
  {
   "cell_type": "code",
   "execution_count": null,
   "metadata": {},
   "outputs": [],
   "source": [
    "# Creamos el código necesario para eliminar los espacios innecesarios al\n",
    "#  principio y al final del contenido del cada columna de la variable donde ya hemos realizado\n",
    "#  la limpieza previa de saltos de línea(\\n), el cambio de '<' por 'under y 'null' por 'NULL'. Y\n",
    "#  comprobamos que la nueva variable con los datos limpios ha almacenado adecuadamente los datos.\n",
    "lista_espacio1=[]\n",
    "for entrada in file_source_sustituido:\n",
    "    espacio1=entrada.split(\";\")\n",
    "    lista_espacio1.append(espacio1)\n",
    "\n",
    "lista_espacio2=[]\n",
    "lista_espacio3=[]\n",
    "for columna in lista_espacio1:\n",
    "    for elemento in columna:\n",
    "        espacio2=elemento.strip()\n",
    "        lista_espacio2.append(espacio2)\n",
    "        if len(lista_espacio2)==len(columna):\n",
    "            lista_espacio3.append(lista_espacio2)\n",
    "            lista_espacio2=[]\n",
    "        else:\n",
    "            pass\n",
    "print(lista_espacio3)"
   ]
  },
  {
   "cell_type": "code",
   "execution_count": null,
   "metadata": {},
   "outputs": [],
   "source": []
  },
  {
   "cell_type": "code",
   "execution_count": null,
   "metadata": {},
   "outputs": [],
   "source": [
    "# Ahora vamos a crear una clase donde incluiremos todas las funciones creadas.\n",
    "# Primero definimos el nombre de nuestra clase.\n",
    "class Txt:\n",
    "    # Creamos el método constructor donde definimos los parámetros que estamos interesados.\n",
    "    def __init__(self, archivo_txt):\n",
    "        # Definimos la variable que almacena el contenido del archivo que queremos limpiar.\n",
    "        self.archivo_txt= archivo_txt\n",
    "    \n",
    "    # Definimos el primer método para quitar saltos de línea(\\n), cambiar '<' por 'under y \n",
    "    #  'null' por 'NULL', cuyo parámetro será una variable que almacene, en formato lista,\n",
    "    #   el contenido de un .txt.\n",
    "    def sustituir(self):\n",
    "        lista_sustituida=[]\n",
    "        for i in self.archivo_txt:\n",
    "            saltos=i.replace(\"\\n\",\"\")\n",
    "            menores=saltos.replace(\"<\", \"under\")\n",
    "            nules=menores.replace(\"null\",\"NULL\")\n",
    "            lista_sustituida.append(nules)\n",
    "        return lista_sustituida\n",
    "    \n",
    "    # Definimos el segundo método para eliminar los espacios innecesarios al principio y al final del\n",
    "    #  contenido del cada columna. El parámetro será una variable que almacene, en formato lista,\n",
    "    #  el contenido de un .txt.\n",
    "    def limpiar(self):\n",
    "        lista_espacio1=[]\n",
    "        for entrada in self.archivo_txt:\n",
    "            espacio1=entrada.split(\";\")\n",
    "            lista_espacio1.append(espacio1)\n",
    "        lista_espacio2=[]\n",
    "        lista_espacio3=[]\n",
    "        for columna in lista_espacio1:\n",
    "            for elemento in columna:\n",
    "                espacio2=elemento.strip()\n",
    "                lista_espacio2.append(espacio2)\n",
    "                if len(lista_espacio2)==len(columna):\n",
    "                    lista_espacio3.append(lista_espacio2)\n",
    "                    lista_espacio2=[]\n",
    "                else:\n",
    "                    pass\n",
    "        return lista_espacio3\n"
   ]
  },
  {
   "cell_type": "code",
   "execution_count": null,
   "metadata": {},
   "outputs": [],
   "source": [
    "limpio1=Txt(file_source)\n",
    "limpio1"
   ]
  },
  {
   "cell_type": "code",
   "execution_count": null,
   "metadata": {},
   "outputs": [],
   "source": [
    "limpio2=limpio1.sustituir()\n",
    "print(limpio2)"
   ]
  },
  {
   "cell_type": "code",
   "execution_count": null,
   "metadata": {},
   "outputs": [],
   "source": [
    "limpio2=Txt(file_source)\n",
    "limpio2"
   ]
  },
  {
   "cell_type": "code",
   "execution_count": null,
   "metadata": {},
   "outputs": [],
   "source": [
    "limpio_final=limpio2.limpiar()\n",
    "print(limpio_final)"
   ]
  },
  {
   "cell_type": "code",
   "execution_count": null,
   "metadata": {},
   "outputs": [],
   "source": [
    "# Ahora eliminamos la primera fila de la tabla donde almacenamos los nombres de las columnas\n",
    "print(limpio_final.pop(0))\n"
   ]
  },
  {
   "cell_type": "code",
   "execution_count": null,
   "metadata": {},
   "outputs": [],
   "source": [
    "print(limpio_final)"
   ]
  },
  {
   "cell_type": "code",
   "execution_count": null,
   "metadata": {},
   "outputs": [],
   "source": [
    "# Insertar los datos limpios del archivo .txt en la base de datos creada \"project1\".\n",
    "\n",
    "import mysql.connector\n",
    "# Para manejar los posibles errores deberemos importar la siguiente librería.\n",
    "from mysql.connector import errorcode\n",
    "\n",
    "# Para evitar que nuestro código se pare utilizamos un try y except al hacer la conexión con\n",
    "# la base de datos de \"project1\".\n",
    "try:\n",
    "  cnx = mysql.connector.connect(user='root', password='AlumnaAdalab',\n",
    "                              host='127.0.0.1',\n",
    "                              database='project1')\n",
    "except mysql.connector.Error as err:\n",
    "  if err.errno == errorcode.ER_ACCESS_DENIED_ERROR:\n",
    "    print(\"Ha habido un error al introducir el nombre de usuario o la contraseña\")\n",
    "  elif err.errno == errorcode.ER_BAD_DB_ERROR:\n",
    "    print(\"La base de datos no existe\")\n",
    "  else:\n",
    "    print(err)\n",
    "else:\n",
    "  cnx.close()"
   ]
  },
  {
   "cell_type": "code",
   "execution_count": null,
   "metadata": {},
   "outputs": [],
   "source": [
    "# Comprobamos que tenemos las tablas correctamente creadas en nuestra base de datos.\n",
    "mydb = mysql.connector.connect(\n",
    "                                user='root', password='AlumnaAdalab',\n",
    "                                host='127.0.0.1',\n",
    "                                database='project1'\n",
    "                                )\n",
    "# creamos el servidor\n",
    "mycursor = mydb.cursor()\n",
    "\n",
    "# ejecutamos la query para ver las tablas de la BBDD que hemos indicado en la conexión\n",
    "mycursor.execute(\"SHOW TABLES\")\n",
    "\n",
    "for x in mycursor:\n",
    "  print(x)\n",
    "\n",
    "mycursor.close()\n",
    "mydb.close()"
   ]
  },
  {
   "cell_type": "code",
   "execution_count": null,
   "metadata": {},
   "outputs": [],
   "source": [
    "# Realizamos de nuevo la conexión con la base de datos \"project1\".\n",
    "import mysql.connector\n",
    "cnx = mysql.connector.connect(user='root', password='AlumnaAdalab',\n",
    "                              host='127.0.0.1',\n",
    "                              database='project1')\n",
    "\n",
    "# Iniciamos el cursor.                               \n",
    "cursor = cnx.cursor()\n",
    "\n",
    "# Escribimos la query para introducir los datos del txt limpios en la tabla \"data_txt\".\n",
    "query= (\"\"\"INSERT INTO data_txt (index_sql, q3, q4, q5, q6, q7, q8, q9, q11, q12, q13, q14, q15, q16, q17, q20, q21, q22, q23, q24, q25, q26, q32, q33, q34, q35, q41)\n",
    "            VALUES (%s, %s, %s, %s, %s, %s, %s, %s, %s, %s, %s, %s, %s, %s, %s, %s, %s, %s, %s, %s, %s, %s, %s, %s, %s, %s, %s);\"\"\")\n",
    "\n",
    "try:\n",
    "  for elemento in limpio_final:\n",
    "    fila=tuple(elemento)\n",
    "    cursor.execute(query, fila)\n",
    "  cnx.commit()\n",
    "  print(\"Datos insertados correctamente\")\n",
    "except mysql.connector.Error as err:\n",
    "    print(err)\n",
    "    print(\"Error Code:\", err.errno)\n",
    "    print(\"SQLSTATE\", err.sqlstate)\n",
    "    print(\"Message\", err.msg)\n",
    "\n",
    "\n",
    "cursor.close()\n",
    "cnx.close()"
   ]
  },
  {
   "cell_type": "code",
   "execution_count": null,
   "metadata": {},
   "outputs": [],
   "source": [
    "# En caso de no tener creada la tabla para insertar los datos del fichero txt, procedemos\n",
    "#  a crear el código necesario para crear desde python la tabla para almacenar estos datos.\n",
    "\n",
    "# import mysql.connector\n",
    "\n",
    "#cnx = mysql.connector.connect(user='root', password='AlumnaAdalab',\n",
    "#                              host='127.0.0.1', database='project1')\n",
    "\n",
    "#cursor = cnx.cursor()\n",
    "#try:\n",
    "#    cursor.execute(\"\"\"CREATE TABLE data_txt(\n",
    "#                            index_txt INT AUTO_INCREMENT PRIMARY KEY,\n",
    "#                            index_sql INT,\n",
    "#                            q3 VARCHAR (500),\n",
    "#                            q4 VARCHAR (500),\n",
    "#                            q5 VARCHAR (500),\n",
    "#                            q6 VARCHAR (500),\n",
    "#                            q7 VARCHAR (500),\n",
    "#                            q8 VARCHAR (500),\n",
    "#                            q9 VARCHAR (500),\n",
    "#                            q11 VARCHAR (500),\n",
    "#                            q12 VARCHAR (500),\n",
    "#                            q13 VARCHAR (500),\n",
    "#                            q14 VARCHAR (500),\n",
    "#                            q15 VARCHAR (500),\n",
    "#                            q16 VARCHAR (500),\n",
    "#                            q17 VARCHAR (1000),\n",
    "#                            q20 VARCHAR (500),\n",
    "#                            q21 VARCHAR (500),\n",
    "#                            q22 VARCHAR (500),\n",
    "#                            q23 VARCHAR (500),\n",
    "#                            q24 VARCHAR (1000),\n",
    "#                            q25 VARCHAR (500),\n",
    "#                            q26 VARCHAR (500),\n",
    "#                            q32 VARCHAR (1000),\n",
    "#                            q33 VARCHAR (500),\n",
    "#                            q34 VARCHAR (1000),\n",
    "#                            q35 VARCHAR (500),\n",
    "#                            q41 VARCHAR (500),\n",
    "#                            CONSTRAINT fk_index_sql2 \n",
    "#                                FOREIGN KEY (index_sql)\n",
    "#                                REFERENCES data_sql(index_sql)\n",
    "#                                ON UPDATE CASCADE)\"\"\")\n",
    "#    print(cursor)\n",
    "#except mysql.connector.Error as err:\n",
    "#    print(err)\n",
    "#    print(\"Error Code:\", err.errno)\n",
    "#    print(\"SQLSTATE\", err.sqlstate)\n",
    "#    print(\"Message\", err.msg)\n",
    "#\n",
    "#cursor.close()\n",
    "#cnx.close()\n"
   ]
  },
  {
   "cell_type": "code",
   "execution_count": null,
   "metadata": {},
   "outputs": [],
   "source": []
  },
  {
   "cell_type": "markdown",
   "metadata": {},
   "source": [
    "Posible funcion para meter dentro de la clase txt para insertar los datos.\n",
    "\n",
    "def insertar_txt(self):\n",
    "        import mysql.connector\n",
    "        cnx = mysql.connector.connect(user='root', password='AlumnaAdalab',\n",
    "                                    host='127.0.0.1',\n",
    "                                    database='project1')\n",
    "\n",
    "        # Iniciamos el cursor.                               \n",
    "        cursor = cnx.cursor()\n",
    "\n",
    "        # Escribimos la query para introducir los datos del txt limpios en la tabla \"data_txt\".\n",
    "        query= (\"\"\"INSERT INTO data_txt (index_sql, q3, q4, q5, q6, q7, q8, q9, q11, q12, q13, q14, q15, q16, q17, q20, q21, q22, q23, q24, q25, q26, q32, q33, q34, q35, q41)\n",
    "                    VALUES (%s, %s, %s, %s, %s, %s, %s, %s, %s, %s, %s, %s, %s, %s, %s, %s, %s, %s, %s, %s, %s, %s, %s, %s, %s, %s, %s);\"\"\")\n",
    "\n",
    "        try:\n",
    "        for elemento in limpio_final:\n",
    "            fila=tuple(elemento)\n",
    "            cursor.execute(query, fila)\n",
    "        cnx.commit()\n",
    "        print(\"Datos insertados correctamente\")\n",
    "        except mysql.connector.Error as err:\n",
    "            print(err)\n",
    "            print(\"Error Code:\", err.errno)\n",
    "            print(\"SQLSTATE\", err.sqlstate)\n",
    "            print(\"Message\", err.msg)\n",
    "\n",
    "        cursor.close()\n",
    "        cnx.close()\n",
    "    return \"Insercion de datos finalizada\""
   ]
  },
  {
   "cell_type": "markdown",
   "metadata": {},
   "source": []
  }
 ],
 "metadata": {
  "kernelspec": {
   "display_name": "Python 3.9.7 ('base')",
   "language": "python",
   "name": "python3"
  },
  "language_info": {
   "codemirror_mode": {
    "name": "ipython",
    "version": 3
   },
   "file_extension": ".py",
   "mimetype": "text/x-python",
   "name": "python",
   "nbconvert_exporter": "python",
   "pygments_lexer": "ipython3",
   "version": "3.9.7"
  },
  "orig_nbformat": 4,
  "vscode": {
   "interpreter": {
    "hash": "468215beec16e96f99bc366ecab75b1d75db716e353e0417cbdb37be88f0d883"
   }
  }
 },
 "nbformat": 4,
 "nbformat_minor": 2
}
